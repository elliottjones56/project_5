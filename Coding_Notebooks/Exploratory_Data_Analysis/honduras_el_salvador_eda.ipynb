{
 "cells": [
  {
   "cell_type": "code",
   "execution_count": 3,
   "id": "e5d3e9c8",
   "metadata": {},
   "outputs": [],
   "source": [
    "import pandas as pd\n",
    "import numpy as np\n",
    "import matplotlib.pyplot as plt"
   ]
  },
  {
   "cell_type": "code",
   "execution_count": 4,
   "id": "79dca121",
   "metadata": {},
   "outputs": [],
   "source": [
    "#Read in dataframe\n",
    "#https://datatofish.com/read_excel/\n",
    "df = pd.read_excel('../../Datasets/Original_Data/data_cts_prisons_and_prisoners.xlsx')"
   ]
  },
  {
   "cell_type": "code",
   "execution_count": 5,
   "id": "f9388500",
   "metadata": {},
   "outputs": [
    {
     "data": {
      "text/html": [
       "<div>\n",
       "<style scoped>\n",
       "    .dataframe tbody tr th:only-of-type {\n",
       "        vertical-align: middle;\n",
       "    }\n",
       "\n",
       "    .dataframe tbody tr th {\n",
       "        vertical-align: top;\n",
       "    }\n",
       "\n",
       "    .dataframe thead th {\n",
       "        text-align: right;\n",
       "    }\n",
       "</style>\n",
       "<table border=\"1\" class=\"dataframe\">\n",
       "  <thead>\n",
       "    <tr style=\"text-align: right;\">\n",
       "      <th></th>\n",
       "      <th>UNODC</th>\n",
       "      <th>Unnamed: 1</th>\n",
       "      <th>Unnamed: 2</th>\n",
       "      <th>Unnamed: 3</th>\n",
       "      <th>Unnamed: 4</th>\n",
       "      <th>Unnamed: 5</th>\n",
       "      <th>Unnamed: 6</th>\n",
       "      <th>Unnamed: 7</th>\n",
       "      <th>Unnamed: 8</th>\n",
       "      <th>Unnamed: 9</th>\n",
       "      <th>Unnamed: 10</th>\n",
       "      <th>Unnamed: 11</th>\n",
       "      <th>Unnamed: 12</th>\n",
       "    </tr>\n",
       "  </thead>\n",
       "  <tbody>\n",
       "    <tr>\n",
       "      <th>0</th>\n",
       "      <td>11/05/2023</td>\n",
       "      <td>NaN</td>\n",
       "      <td>NaN</td>\n",
       "      <td>NaN</td>\n",
       "      <td>NaN</td>\n",
       "      <td>NaN</td>\n",
       "      <td>NaN</td>\n",
       "      <td>NaN</td>\n",
       "      <td>NaN</td>\n",
       "      <td>NaN</td>\n",
       "      <td>NaN</td>\n",
       "      <td>NaN</td>\n",
       "      <td>NaN</td>\n",
       "    </tr>\n",
       "    <tr>\n",
       "      <th>1</th>\n",
       "      <td>Iso3_code</td>\n",
       "      <td>Country</td>\n",
       "      <td>Region</td>\n",
       "      <td>Subregion</td>\n",
       "      <td>Indicator</td>\n",
       "      <td>Dimension</td>\n",
       "      <td>Category</td>\n",
       "      <td>Sex</td>\n",
       "      <td>Age</td>\n",
       "      <td>Year</td>\n",
       "      <td>Unit of measurement</td>\n",
       "      <td>VALUE</td>\n",
       "      <td>Source</td>\n",
       "    </tr>\n",
       "    <tr>\n",
       "      <th>2</th>\n",
       "      <td>BRB</td>\n",
       "      <td>Barbados</td>\n",
       "      <td>Americas</td>\n",
       "      <td>Latin America and the Caribbean</td>\n",
       "      <td>Persons entering prison</td>\n",
       "      <td>by selected crime</td>\n",
       "      <td>Intentional Homicide</td>\n",
       "      <td>Total</td>\n",
       "      <td>Total</td>\n",
       "      <td>2016</td>\n",
       "      <td>Counts</td>\n",
       "      <td>0</td>\n",
       "      <td>CTS</td>\n",
       "    </tr>\n",
       "    <tr>\n",
       "      <th>3</th>\n",
       "      <td>CRI</td>\n",
       "      <td>Costa Rica</td>\n",
       "      <td>Americas</td>\n",
       "      <td>Latin America and the Caribbean</td>\n",
       "      <td>Persons entering prison</td>\n",
       "      <td>by selected crime</td>\n",
       "      <td>Intentional Homicide</td>\n",
       "      <td>Total</td>\n",
       "      <td>Total</td>\n",
       "      <td>2016</td>\n",
       "      <td>Counts</td>\n",
       "      <td>173</td>\n",
       "      <td>CTS</td>\n",
       "    </tr>\n",
       "    <tr>\n",
       "      <th>4</th>\n",
       "      <td>DMA</td>\n",
       "      <td>Dominica</td>\n",
       "      <td>Americas</td>\n",
       "      <td>Latin America and the Caribbean</td>\n",
       "      <td>Persons entering prison</td>\n",
       "      <td>by selected crime</td>\n",
       "      <td>Intentional Homicide</td>\n",
       "      <td>Total</td>\n",
       "      <td>Total</td>\n",
       "      <td>2016</td>\n",
       "      <td>Counts</td>\n",
       "      <td>65</td>\n",
       "      <td>CTS</td>\n",
       "    </tr>\n",
       "  </tbody>\n",
       "</table>\n",
       "</div>"
      ],
      "text/plain": [
       "        UNODC  Unnamed: 1 Unnamed: 2                       Unnamed: 3  \\\n",
       "0  11/05/2023         NaN        NaN                              NaN   \n",
       "1   Iso3_code     Country     Region                        Subregion   \n",
       "2         BRB    Barbados   Americas  Latin America and the Caribbean   \n",
       "3         CRI  Costa Rica   Americas  Latin America and the Caribbean   \n",
       "4         DMA    Dominica   Americas  Latin America and the Caribbean   \n",
       "\n",
       "                Unnamed: 4         Unnamed: 5            Unnamed: 6  \\\n",
       "0                      NaN                NaN                   NaN   \n",
       "1                Indicator          Dimension              Category   \n",
       "2  Persons entering prison  by selected crime  Intentional Homicide   \n",
       "3  Persons entering prison  by selected crime  Intentional Homicide   \n",
       "4  Persons entering prison  by selected crime  Intentional Homicide   \n",
       "\n",
       "  Unnamed: 7 Unnamed: 8 Unnamed: 9          Unnamed: 10 Unnamed: 11  \\\n",
       "0        NaN        NaN        NaN                  NaN         NaN   \n",
       "1        Sex        Age       Year  Unit of measurement       VALUE   \n",
       "2      Total      Total       2016               Counts           0   \n",
       "3      Total      Total       2016               Counts         173   \n",
       "4      Total      Total       2016               Counts          65   \n",
       "\n",
       "  Unnamed: 12  \n",
       "0         NaN  \n",
       "1      Source  \n",
       "2         CTS  \n",
       "3         CTS  \n",
       "4         CTS  "
      ]
     },
     "execution_count": 5,
     "metadata": {},
     "output_type": "execute_result"
    }
   ],
   "source": [
    "df.head()"
   ]
  },
  {
   "cell_type": "code",
   "execution_count": 6,
   "id": "5cbc2c0a",
   "metadata": {},
   "outputs": [
    {
     "data": {
      "text/html": [
       "<div>\n",
       "<style scoped>\n",
       "    .dataframe tbody tr th:only-of-type {\n",
       "        vertical-align: middle;\n",
       "    }\n",
       "\n",
       "    .dataframe tbody tr th {\n",
       "        vertical-align: top;\n",
       "    }\n",
       "\n",
       "    .dataframe thead th {\n",
       "        text-align: right;\n",
       "    }\n",
       "</style>\n",
       "<table border=\"1\" class=\"dataframe\">\n",
       "  <thead>\n",
       "    <tr style=\"text-align: right;\">\n",
       "      <th></th>\n",
       "      <th>UNODC</th>\n",
       "      <th>Unnamed: 1</th>\n",
       "      <th>Unnamed: 2</th>\n",
       "      <th>Unnamed: 3</th>\n",
       "      <th>Unnamed: 4</th>\n",
       "      <th>Unnamed: 5</th>\n",
       "      <th>Unnamed: 6</th>\n",
       "      <th>Unnamed: 7</th>\n",
       "      <th>Unnamed: 8</th>\n",
       "      <th>Unnamed: 9</th>\n",
       "      <th>Unnamed: 10</th>\n",
       "      <th>Unnamed: 11</th>\n",
       "      <th>Unnamed: 12</th>\n",
       "    </tr>\n",
       "  </thead>\n",
       "  <tbody>\n",
       "    <tr>\n",
       "      <th>1</th>\n",
       "      <td>Iso3_code</td>\n",
       "      <td>Country</td>\n",
       "      <td>Region</td>\n",
       "      <td>Subregion</td>\n",
       "      <td>Indicator</td>\n",
       "      <td>Dimension</td>\n",
       "      <td>Category</td>\n",
       "      <td>Sex</td>\n",
       "      <td>Age</td>\n",
       "      <td>Year</td>\n",
       "      <td>Unit of measurement</td>\n",
       "      <td>VALUE</td>\n",
       "      <td>Source</td>\n",
       "    </tr>\n",
       "    <tr>\n",
       "      <th>2</th>\n",
       "      <td>BRB</td>\n",
       "      <td>Barbados</td>\n",
       "      <td>Americas</td>\n",
       "      <td>Latin America and the Caribbean</td>\n",
       "      <td>Persons entering prison</td>\n",
       "      <td>by selected crime</td>\n",
       "      <td>Intentional Homicide</td>\n",
       "      <td>Total</td>\n",
       "      <td>Total</td>\n",
       "      <td>2016</td>\n",
       "      <td>Counts</td>\n",
       "      <td>0</td>\n",
       "      <td>CTS</td>\n",
       "    </tr>\n",
       "    <tr>\n",
       "      <th>3</th>\n",
       "      <td>CRI</td>\n",
       "      <td>Costa Rica</td>\n",
       "      <td>Americas</td>\n",
       "      <td>Latin America and the Caribbean</td>\n",
       "      <td>Persons entering prison</td>\n",
       "      <td>by selected crime</td>\n",
       "      <td>Intentional Homicide</td>\n",
       "      <td>Total</td>\n",
       "      <td>Total</td>\n",
       "      <td>2016</td>\n",
       "      <td>Counts</td>\n",
       "      <td>173</td>\n",
       "      <td>CTS</td>\n",
       "    </tr>\n",
       "    <tr>\n",
       "      <th>4</th>\n",
       "      <td>DMA</td>\n",
       "      <td>Dominica</td>\n",
       "      <td>Americas</td>\n",
       "      <td>Latin America and the Caribbean</td>\n",
       "      <td>Persons entering prison</td>\n",
       "      <td>by selected crime</td>\n",
       "      <td>Intentional Homicide</td>\n",
       "      <td>Total</td>\n",
       "      <td>Total</td>\n",
       "      <td>2016</td>\n",
       "      <td>Counts</td>\n",
       "      <td>65</td>\n",
       "      <td>CTS</td>\n",
       "    </tr>\n",
       "    <tr>\n",
       "      <th>5</th>\n",
       "      <td>GBR_NI</td>\n",
       "      <td>United Kingdom (Northern Ireland)</td>\n",
       "      <td>Europe</td>\n",
       "      <td>Northern Europe</td>\n",
       "      <td>Persons entering prison</td>\n",
       "      <td>by selected crime</td>\n",
       "      <td>Intentional Homicide</td>\n",
       "      <td>Total</td>\n",
       "      <td>Total</td>\n",
       "      <td>2016</td>\n",
       "      <td>Counts</td>\n",
       "      <td>61</td>\n",
       "      <td>CTS</td>\n",
       "    </tr>\n",
       "  </tbody>\n",
       "</table>\n",
       "</div>"
      ],
      "text/plain": [
       "       UNODC                         Unnamed: 1 Unnamed: 2  \\\n",
       "1  Iso3_code                            Country     Region   \n",
       "2        BRB                           Barbados   Americas   \n",
       "3        CRI                         Costa Rica   Americas   \n",
       "4        DMA                           Dominica   Americas   \n",
       "5     GBR_NI  United Kingdom (Northern Ireland)     Europe   \n",
       "\n",
       "                        Unnamed: 3               Unnamed: 4  \\\n",
       "1                        Subregion                Indicator   \n",
       "2  Latin America and the Caribbean  Persons entering prison   \n",
       "3  Latin America and the Caribbean  Persons entering prison   \n",
       "4  Latin America and the Caribbean  Persons entering prison   \n",
       "5                  Northern Europe  Persons entering prison   \n",
       "\n",
       "          Unnamed: 5            Unnamed: 6 Unnamed: 7 Unnamed: 8 Unnamed: 9  \\\n",
       "1          Dimension              Category        Sex        Age       Year   \n",
       "2  by selected crime  Intentional Homicide      Total      Total       2016   \n",
       "3  by selected crime  Intentional Homicide      Total      Total       2016   \n",
       "4  by selected crime  Intentional Homicide      Total      Total       2016   \n",
       "5  by selected crime  Intentional Homicide      Total      Total       2016   \n",
       "\n",
       "           Unnamed: 10 Unnamed: 11 Unnamed: 12  \n",
       "1  Unit of measurement       VALUE      Source  \n",
       "2               Counts           0         CTS  \n",
       "3               Counts         173         CTS  \n",
       "4               Counts          65         CTS  \n",
       "5               Counts          61         CTS  "
      ]
     },
     "execution_count": 6,
     "metadata": {},
     "output_type": "execute_result"
    }
   ],
   "source": [
    "#Drop first row\n",
    "df = df.drop(df.index[0])\n",
    "df.head()"
   ]
  },
  {
   "cell_type": "code",
   "execution_count": 7,
   "id": "4c53f355",
   "metadata": {},
   "outputs": [
    {
     "data": {
      "text/html": [
       "<div>\n",
       "<style scoped>\n",
       "    .dataframe tbody tr th:only-of-type {\n",
       "        vertical-align: middle;\n",
       "    }\n",
       "\n",
       "    .dataframe tbody tr th {\n",
       "        vertical-align: top;\n",
       "    }\n",
       "\n",
       "    .dataframe thead th {\n",
       "        text-align: right;\n",
       "    }\n",
       "</style>\n",
       "<table border=\"1\" class=\"dataframe\">\n",
       "  <thead>\n",
       "    <tr style=\"text-align: right;\">\n",
       "      <th></th>\n",
       "      <th>Iso3_code</th>\n",
       "      <th>Country</th>\n",
       "      <th>Region</th>\n",
       "      <th>Subregion</th>\n",
       "      <th>Indicator</th>\n",
       "      <th>Dimension</th>\n",
       "      <th>Category</th>\n",
       "      <th>Sex</th>\n",
       "      <th>Age</th>\n",
       "      <th>Year</th>\n",
       "      <th>Unit of measurement</th>\n",
       "      <th>VALUE</th>\n",
       "      <th>Source</th>\n",
       "    </tr>\n",
       "  </thead>\n",
       "  <tbody>\n",
       "    <tr>\n",
       "      <th>2</th>\n",
       "      <td>BRB</td>\n",
       "      <td>Barbados</td>\n",
       "      <td>Americas</td>\n",
       "      <td>Latin America and the Caribbean</td>\n",
       "      <td>Persons entering prison</td>\n",
       "      <td>by selected crime</td>\n",
       "      <td>Intentional Homicide</td>\n",
       "      <td>Total</td>\n",
       "      <td>Total</td>\n",
       "      <td>2016</td>\n",
       "      <td>Counts</td>\n",
       "      <td>0</td>\n",
       "      <td>CTS</td>\n",
       "    </tr>\n",
       "    <tr>\n",
       "      <th>3</th>\n",
       "      <td>CRI</td>\n",
       "      <td>Costa Rica</td>\n",
       "      <td>Americas</td>\n",
       "      <td>Latin America and the Caribbean</td>\n",
       "      <td>Persons entering prison</td>\n",
       "      <td>by selected crime</td>\n",
       "      <td>Intentional Homicide</td>\n",
       "      <td>Total</td>\n",
       "      <td>Total</td>\n",
       "      <td>2016</td>\n",
       "      <td>Counts</td>\n",
       "      <td>173</td>\n",
       "      <td>CTS</td>\n",
       "    </tr>\n",
       "    <tr>\n",
       "      <th>4</th>\n",
       "      <td>DMA</td>\n",
       "      <td>Dominica</td>\n",
       "      <td>Americas</td>\n",
       "      <td>Latin America and the Caribbean</td>\n",
       "      <td>Persons entering prison</td>\n",
       "      <td>by selected crime</td>\n",
       "      <td>Intentional Homicide</td>\n",
       "      <td>Total</td>\n",
       "      <td>Total</td>\n",
       "      <td>2016</td>\n",
       "      <td>Counts</td>\n",
       "      <td>65</td>\n",
       "      <td>CTS</td>\n",
       "    </tr>\n",
       "    <tr>\n",
       "      <th>5</th>\n",
       "      <td>GBR_NI</td>\n",
       "      <td>United Kingdom (Northern Ireland)</td>\n",
       "      <td>Europe</td>\n",
       "      <td>Northern Europe</td>\n",
       "      <td>Persons entering prison</td>\n",
       "      <td>by selected crime</td>\n",
       "      <td>Intentional Homicide</td>\n",
       "      <td>Total</td>\n",
       "      <td>Total</td>\n",
       "      <td>2016</td>\n",
       "      <td>Counts</td>\n",
       "      <td>61</td>\n",
       "      <td>CTS</td>\n",
       "    </tr>\n",
       "    <tr>\n",
       "      <th>6</th>\n",
       "      <td>ITA</td>\n",
       "      <td>Italy</td>\n",
       "      <td>Europe</td>\n",
       "      <td>Southern Europe</td>\n",
       "      <td>Persons entering prison</td>\n",
       "      <td>by selected crime</td>\n",
       "      <td>Intentional Homicide</td>\n",
       "      <td>Total</td>\n",
       "      <td>Total</td>\n",
       "      <td>2016</td>\n",
       "      <td>Counts</td>\n",
       "      <td>1443</td>\n",
       "      <td>CTS</td>\n",
       "    </tr>\n",
       "  </tbody>\n",
       "</table>\n",
       "</div>"
      ],
      "text/plain": [
       "  Iso3_code                            Country    Region  \\\n",
       "2       BRB                           Barbados  Americas   \n",
       "3       CRI                         Costa Rica  Americas   \n",
       "4       DMA                           Dominica  Americas   \n",
       "5    GBR_NI  United Kingdom (Northern Ireland)    Europe   \n",
       "6       ITA                              Italy    Europe   \n",
       "\n",
       "                         Subregion                Indicator  \\\n",
       "2  Latin America and the Caribbean  Persons entering prison   \n",
       "3  Latin America and the Caribbean  Persons entering prison   \n",
       "4  Latin America and the Caribbean  Persons entering prison   \n",
       "5                  Northern Europe  Persons entering prison   \n",
       "6                  Southern Europe  Persons entering prison   \n",
       "\n",
       "           Dimension              Category    Sex    Age  Year  \\\n",
       "2  by selected crime  Intentional Homicide  Total  Total  2016   \n",
       "3  by selected crime  Intentional Homicide  Total  Total  2016   \n",
       "4  by selected crime  Intentional Homicide  Total  Total  2016   \n",
       "5  by selected crime  Intentional Homicide  Total  Total  2016   \n",
       "6  by selected crime  Intentional Homicide  Total  Total  2016   \n",
       "\n",
       "  Unit of measurement VALUE Source  \n",
       "2              Counts     0    CTS  \n",
       "3              Counts   173    CTS  \n",
       "4              Counts    65    CTS  \n",
       "5              Counts    61    CTS  \n",
       "6              Counts  1443    CTS  "
      ]
     },
     "execution_count": 7,
     "metadata": {},
     "output_type": "execute_result"
    }
   ],
   "source": [
    "#First row currently has column headers. Going to change it so headers are named accordingly\n",
    "#https://saturncloud.io/blog/what-is-python-pandas-replacing-header-with-top-row-and-how-to-do-it/#:~:text=If%20you%20already%20have%20a,using%20the%20rename()%20method.&text=In%20the%20above%20code%2C%20we,and%20set%20it%20to%20df.\n",
    "df = df = df.rename(columns=df.iloc[0]).drop(df.index[0])\n",
    "df.head()"
   ]
  },
  {
   "cell_type": "code",
   "execution_count": 8,
   "id": "c1c18150",
   "metadata": {},
   "outputs": [],
   "source": [
    "df_copy = df"
   ]
  },
  {
   "cell_type": "code",
   "execution_count": 9,
   "id": "4c812049",
   "metadata": {
    "scrolled": true
   },
   "outputs": [
    {
     "data": {
      "text/html": [
       "<div>\n",
       "<style scoped>\n",
       "    .dataframe tbody tr th:only-of-type {\n",
       "        vertical-align: middle;\n",
       "    }\n",
       "\n",
       "    .dataframe tbody tr th {\n",
       "        vertical-align: top;\n",
       "    }\n",
       "\n",
       "    .dataframe thead th {\n",
       "        text-align: right;\n",
       "    }\n",
       "</style>\n",
       "<table border=\"1\" class=\"dataframe\">\n",
       "  <thead>\n",
       "    <tr style=\"text-align: right;\">\n",
       "      <th></th>\n",
       "      <th>Iso3_code</th>\n",
       "      <th>Country</th>\n",
       "      <th>Region</th>\n",
       "      <th>Subregion</th>\n",
       "      <th>Indicator</th>\n",
       "      <th>Dimension</th>\n",
       "      <th>Category</th>\n",
       "      <th>Sex</th>\n",
       "      <th>Age</th>\n",
       "      <th>Year</th>\n",
       "      <th>Unit of measurement</th>\n",
       "      <th>VALUE</th>\n",
       "      <th>Source</th>\n",
       "    </tr>\n",
       "  </thead>\n",
       "  <tbody>\n",
       "    <tr>\n",
       "      <th>98</th>\n",
       "      <td>SLV</td>\n",
       "      <td>El Salvador</td>\n",
       "      <td>Americas</td>\n",
       "      <td>Latin America and the Caribbean</td>\n",
       "      <td>Persons entering prison</td>\n",
       "      <td>by selected crime</td>\n",
       "      <td>Intentional Homicide</td>\n",
       "      <td>Total</td>\n",
       "      <td>Total</td>\n",
       "      <td>2019</td>\n",
       "      <td>Counts</td>\n",
       "      <td>14643</td>\n",
       "      <td>CTS</td>\n",
       "    </tr>\n",
       "    <tr>\n",
       "      <th>256</th>\n",
       "      <td>SLV</td>\n",
       "      <td>El Salvador</td>\n",
       "      <td>Americas</td>\n",
       "      <td>Latin America and the Caribbean</td>\n",
       "      <td>Persons entering prison</td>\n",
       "      <td>by selected crime</td>\n",
       "      <td>Rape</td>\n",
       "      <td>Total</td>\n",
       "      <td>Total</td>\n",
       "      <td>2019</td>\n",
       "      <td>Counts</td>\n",
       "      <td>2822</td>\n",
       "      <td>CTS</td>\n",
       "    </tr>\n",
       "    <tr>\n",
       "      <th>326</th>\n",
       "      <td>HND</td>\n",
       "      <td>Honduras</td>\n",
       "      <td>Americas</td>\n",
       "      <td>Latin America and the Caribbean</td>\n",
       "      <td>Persons entering prison</td>\n",
       "      <td>by selected crime</td>\n",
       "      <td>Drug Possession</td>\n",
       "      <td>Total</td>\n",
       "      <td>Total</td>\n",
       "      <td>2016</td>\n",
       "      <td>Counts</td>\n",
       "      <td>87</td>\n",
       "      <td>CTS</td>\n",
       "    </tr>\n",
       "    <tr>\n",
       "      <th>343</th>\n",
       "      <td>HND</td>\n",
       "      <td>Honduras</td>\n",
       "      <td>Americas</td>\n",
       "      <td>Latin America and the Caribbean</td>\n",
       "      <td>Persons entering prison</td>\n",
       "      <td>by selected crime</td>\n",
       "      <td>Drug Possession</td>\n",
       "      <td>Total</td>\n",
       "      <td>Total</td>\n",
       "      <td>2017</td>\n",
       "      <td>Counts</td>\n",
       "      <td>94</td>\n",
       "      <td>CTS</td>\n",
       "    </tr>\n",
       "    <tr>\n",
       "      <th>403</th>\n",
       "      <td>SLV</td>\n",
       "      <td>El Salvador</td>\n",
       "      <td>Americas</td>\n",
       "      <td>Latin America and the Caribbean</td>\n",
       "      <td>Persons entering prison</td>\n",
       "      <td>by selected crime</td>\n",
       "      <td>Drug Possession</td>\n",
       "      <td>Total</td>\n",
       "      <td>Total</td>\n",
       "      <td>2019</td>\n",
       "      <td>Counts</td>\n",
       "      <td>3757</td>\n",
       "      <td>CTS</td>\n",
       "    </tr>\n",
       "  </tbody>\n",
       "</table>\n",
       "</div>"
      ],
      "text/plain": [
       "    Iso3_code      Country    Region                        Subregion  \\\n",
       "98        SLV  El Salvador  Americas  Latin America and the Caribbean   \n",
       "256       SLV  El Salvador  Americas  Latin America and the Caribbean   \n",
       "326       HND     Honduras  Americas  Latin America and the Caribbean   \n",
       "343       HND     Honduras  Americas  Latin America and the Caribbean   \n",
       "403       SLV  El Salvador  Americas  Latin America and the Caribbean   \n",
       "\n",
       "                   Indicator          Dimension              Category    Sex  \\\n",
       "98   Persons entering prison  by selected crime  Intentional Homicide  Total   \n",
       "256  Persons entering prison  by selected crime                  Rape  Total   \n",
       "326  Persons entering prison  by selected crime       Drug Possession  Total   \n",
       "343  Persons entering prison  by selected crime       Drug Possession  Total   \n",
       "403  Persons entering prison  by selected crime       Drug Possession  Total   \n",
       "\n",
       "       Age  Year Unit of measurement  VALUE Source  \n",
       "98   Total  2019              Counts  14643    CTS  \n",
       "256  Total  2019              Counts   2822    CTS  \n",
       "326  Total  2016              Counts     87    CTS  \n",
       "343  Total  2017              Counts     94    CTS  \n",
       "403  Total  2019              Counts   3757    CTS  "
      ]
     },
     "execution_count": 9,
     "metadata": {},
     "output_type": "execute_result"
    }
   ],
   "source": [
    "#Only keeping data relevant to Honduras and El Salvador\n",
    "df = df[df['Country'].isin(['Honduras', 'El Salvador'])]\n",
    "df.head()"
   ]
  },
  {
   "cell_type": "code",
   "execution_count": 10,
   "id": "2068daeb",
   "metadata": {},
   "outputs": [
    {
     "data": {
      "text/plain": [
       "(1018, 13)"
      ]
     },
     "execution_count": 10,
     "metadata": {},
     "output_type": "execute_result"
    }
   ],
   "source": [
    "df.shape"
   ]
  },
  {
   "cell_type": "code",
   "execution_count": 11,
   "id": "1473727a",
   "metadata": {},
   "outputs": [
    {
     "data": {
      "text/plain": [
       "Iso3_code              0\n",
       "Country                0\n",
       "Region                 0\n",
       "Subregion              0\n",
       "Indicator              0\n",
       "Dimension              0\n",
       "Category               0\n",
       "Sex                    0\n",
       "Age                    0\n",
       "Year                   0\n",
       "Unit of measurement    0\n",
       "VALUE                  0\n",
       "Source                 0\n",
       "dtype: int64"
      ]
     },
     "execution_count": 11,
     "metadata": {},
     "output_type": "execute_result"
    }
   ],
   "source": [
    "#Checking nulls\n",
    "df.isnull().sum()"
   ]
  },
  {
   "cell_type": "code",
   "execution_count": 12,
   "id": "558f5a7f",
   "metadata": {},
   "outputs": [
    {
     "data": {
      "text/plain": [
       "Persons held                                     695\n",
       "Persons entering prison                          102\n",
       "Persons held unsentenced                          86\n",
       "Mortality in prison                               65\n",
       "Prisons facilities and capacity                   52\n",
       "Persons held under other types of supervision     18\n",
       "Name: Indicator, dtype: int64"
      ]
     },
     "execution_count": 12,
     "metadata": {},
     "output_type": "execute_result"
    }
   ],
   "source": [
    "df['Indicator'].value_counts()"
   ]
  },
  {
   "cell_type": "code",
   "execution_count": 13,
   "id": "0223926c",
   "metadata": {},
   "outputs": [
    {
     "data": {
      "text/plain": [
       "Total                                                            361\n",
       "Unsentenced                                                      116\n",
       "Sentenced                                                         68\n",
       "Unsentenced: Total                                                60\n",
       "Official prison capacity                                          44\n",
       "Intentional Homicide                                              24\n",
       "Acts involving controlled psycho-active substances                22\n",
       "Foreign citizens                                                  21\n",
       "National citizens                                                 19\n",
       "Drug possession                                                   18\n",
       "Acts leading to death or intending to cause death                 16\n",
       "Acts against property involving violence                          16\n",
       "Drug trafficking                                                  16\n",
       "Acts against public safety and state security                     16\n",
       "Rape                                                              16\n",
       "Injurious acts of a sexual nature                                 16\n",
       "Acts leading to harm or intending to cause harm to the person     14\n",
       "Deaths due to external causes                                     14\n",
       "Bribery                                                           14\n",
       "Deaths due to external causes: by intentional homicide            13\n",
       "Acts against property only                                        12\n",
       "Unsentenced for less than 6 months                                12\n",
       "Other criminal acts not elsewhere classified                      12\n",
       "Deaths due to external causes: by suicide                         12\n",
       "Unsentenced for more than 12 months                               12\n",
       "Acts against public order                                          8\n",
       "Acts involving fraud, deception or corruption                      8\n",
       "Number of facilities                                               8\n",
       "Deaths due to external causes: by accident or other causes         7\n",
       "Deaths due to natural causes                                       7\n",
       "Drug Trafficking                                                   6\n",
       "Drug Possession                                                    6\n",
       "Unsentenced for less than 12 months                                2\n",
       "Acts against the natural environment                               2\n",
       "Name: Category, dtype: int64"
      ]
     },
     "execution_count": 13,
     "metadata": {},
     "output_type": "execute_result"
    }
   ],
   "source": [
    "df['Category'].value_counts()"
   ]
  },
  {
   "cell_type": "code",
   "execution_count": 14,
   "id": "a17793ce",
   "metadata": {},
   "outputs": [],
   "source": [
    "#Xiomara Castro came in 2022\n",
    "#Nayib Bukele came in 2019"
   ]
  },
  {
   "cell_type": "code",
   "execution_count": 15,
   "id": "56dd7d17",
   "metadata": {},
   "outputs": [
    {
     "data": {
      "text/plain": [
       "564"
      ]
     },
     "execution_count": 15,
     "metadata": {},
     "output_type": "execute_result"
    }
   ],
   "source": [
    "(df['Country'] == 'El Salvador').sum()"
   ]
  },
  {
   "cell_type": "code",
   "execution_count": 16,
   "id": "fed4fc5e",
   "metadata": {},
   "outputs": [
    {
     "data": {
      "text/plain": [
       "454"
      ]
     },
     "execution_count": 16,
     "metadata": {},
     "output_type": "execute_result"
    }
   ],
   "source": [
    "(df['Country'] == 'Honduras').sum()"
   ]
  },
  {
   "cell_type": "code",
   "execution_count": 17,
   "id": "02ba0211",
   "metadata": {},
   "outputs": [
    {
     "data": {
      "text/plain": [
       "Total        858\n",
       "Adult        102\n",
       "Juveniles     58\n",
       "Name: Age, dtype: int64"
      ]
     },
     "execution_count": 17,
     "metadata": {},
     "output_type": "execute_result"
    }
   ],
   "source": [
    "df['Age'].value_counts()"
   ]
  },
  {
   "cell_type": "code",
   "execution_count": 18,
   "id": "f33f5e11",
   "metadata": {
    "scrolled": true
   },
   "outputs": [
    {
     "data": {
      "text/plain": [
       "Total     759\n",
       "Male      131\n",
       "Female    128\n",
       "Name: Sex, dtype: int64"
      ]
     },
     "execution_count": 18,
     "metadata": {},
     "output_type": "execute_result"
    }
   ],
   "source": [
    "df['Sex'].value_counts()"
   ]
  },
  {
   "cell_type": "code",
   "execution_count": 19,
   "id": "7beb4824",
   "metadata": {},
   "outputs": [],
   "source": [
    "#Dataframe for only men\n",
    "df_men = df[df['Sex'].isin(['Male'])]"
   ]
  },
  {
   "cell_type": "code",
   "execution_count": 20,
   "id": "97aac3d5",
   "metadata": {},
   "outputs": [
    {
     "data": {
      "text/html": [
       "<div>\n",
       "<style scoped>\n",
       "    .dataframe tbody tr th:only-of-type {\n",
       "        vertical-align: middle;\n",
       "    }\n",
       "\n",
       "    .dataframe tbody tr th {\n",
       "        vertical-align: top;\n",
       "    }\n",
       "\n",
       "    .dataframe thead th {\n",
       "        text-align: right;\n",
       "    }\n",
       "</style>\n",
       "<table border=\"1\" class=\"dataframe\">\n",
       "  <thead>\n",
       "    <tr style=\"text-align: right;\">\n",
       "      <th></th>\n",
       "      <th>Iso3_code</th>\n",
       "      <th>Country</th>\n",
       "      <th>Region</th>\n",
       "      <th>Subregion</th>\n",
       "      <th>Indicator</th>\n",
       "      <th>Dimension</th>\n",
       "      <th>Category</th>\n",
       "      <th>Sex</th>\n",
       "      <th>Age</th>\n",
       "      <th>Year</th>\n",
       "      <th>Unit of measurement</th>\n",
       "      <th>VALUE</th>\n",
       "      <th>Source</th>\n",
       "    </tr>\n",
       "  </thead>\n",
       "  <tbody>\n",
       "    <tr>\n",
       "      <th>10110</th>\n",
       "      <td>SLV</td>\n",
       "      <td>El Salvador</td>\n",
       "      <td>Americas</td>\n",
       "      <td>Latin America and the Caribbean</td>\n",
       "      <td>Persons held</td>\n",
       "      <td>Total</td>\n",
       "      <td>Total</td>\n",
       "      <td>Male</td>\n",
       "      <td>Adult</td>\n",
       "      <td>2005</td>\n",
       "      <td>Counts</td>\n",
       "      <td>11940</td>\n",
       "      <td>CTS</td>\n",
       "    </tr>\n",
       "    <tr>\n",
       "      <th>10172</th>\n",
       "      <td>SLV</td>\n",
       "      <td>El Salvador</td>\n",
       "      <td>Americas</td>\n",
       "      <td>Latin America and the Caribbean</td>\n",
       "      <td>Persons held</td>\n",
       "      <td>Total</td>\n",
       "      <td>Total</td>\n",
       "      <td>Male</td>\n",
       "      <td>Adult</td>\n",
       "      <td>2006</td>\n",
       "      <td>Counts</td>\n",
       "      <td>13944</td>\n",
       "      <td>CTS</td>\n",
       "    </tr>\n",
       "    <tr>\n",
       "      <th>10238</th>\n",
       "      <td>SLV</td>\n",
       "      <td>El Salvador</td>\n",
       "      <td>Americas</td>\n",
       "      <td>Latin America and the Caribbean</td>\n",
       "      <td>Persons held</td>\n",
       "      <td>Total</td>\n",
       "      <td>Total</td>\n",
       "      <td>Male</td>\n",
       "      <td>Adult</td>\n",
       "      <td>2007</td>\n",
       "      <td>Counts</td>\n",
       "      <td>16762</td>\n",
       "      <td>CTS</td>\n",
       "    </tr>\n",
       "    <tr>\n",
       "      <th>10314</th>\n",
       "      <td>SLV</td>\n",
       "      <td>El Salvador</td>\n",
       "      <td>Americas</td>\n",
       "      <td>Latin America and the Caribbean</td>\n",
       "      <td>Persons held</td>\n",
       "      <td>Total</td>\n",
       "      <td>Total</td>\n",
       "      <td>Male</td>\n",
       "      <td>Adult</td>\n",
       "      <td>2008</td>\n",
       "      <td>Counts</td>\n",
       "      <td>18269</td>\n",
       "      <td>CTS</td>\n",
       "    </tr>\n",
       "    <tr>\n",
       "      <th>10403</th>\n",
       "      <td>SLV</td>\n",
       "      <td>El Salvador</td>\n",
       "      <td>Americas</td>\n",
       "      <td>Latin America and the Caribbean</td>\n",
       "      <td>Persons held</td>\n",
       "      <td>Total</td>\n",
       "      <td>Total</td>\n",
       "      <td>Male</td>\n",
       "      <td>Adult</td>\n",
       "      <td>2009</td>\n",
       "      <td>Counts</td>\n",
       "      <td>20164</td>\n",
       "      <td>CTS</td>\n",
       "    </tr>\n",
       "  </tbody>\n",
       "</table>\n",
       "</div>"
      ],
      "text/plain": [
       "      Iso3_code      Country    Region                        Subregion  \\\n",
       "10110       SLV  El Salvador  Americas  Latin America and the Caribbean   \n",
       "10172       SLV  El Salvador  Americas  Latin America and the Caribbean   \n",
       "10238       SLV  El Salvador  Americas  Latin America and the Caribbean   \n",
       "10314       SLV  El Salvador  Americas  Latin America and the Caribbean   \n",
       "10403       SLV  El Salvador  Americas  Latin America and the Caribbean   \n",
       "\n",
       "          Indicator Dimension Category   Sex    Age  Year Unit of measurement  \\\n",
       "10110  Persons held     Total    Total  Male  Adult  2005              Counts   \n",
       "10172  Persons held     Total    Total  Male  Adult  2006              Counts   \n",
       "10238  Persons held     Total    Total  Male  Adult  2007              Counts   \n",
       "10314  Persons held     Total    Total  Male  Adult  2008              Counts   \n",
       "10403  Persons held     Total    Total  Male  Adult  2009              Counts   \n",
       "\n",
       "       VALUE Source  \n",
       "10110  11940    CTS  \n",
       "10172  13944    CTS  \n",
       "10238  16762    CTS  \n",
       "10314  18269    CTS  \n",
       "10403  20164    CTS  "
      ]
     },
     "execution_count": 20,
     "metadata": {},
     "output_type": "execute_result"
    }
   ],
   "source": [
    "df_men.head()"
   ]
  },
  {
   "cell_type": "code",
   "execution_count": 21,
   "id": "a015af2a",
   "metadata": {},
   "outputs": [
    {
     "data": {
      "text/plain": [
       "(131, 13)"
      ]
     },
     "execution_count": 21,
     "metadata": {},
     "output_type": "execute_result"
    }
   ],
   "source": [
    "df_men.shape "
   ]
  },
  {
   "cell_type": "code",
   "execution_count": 22,
   "id": "f2dc9a60",
   "metadata": {},
   "outputs": [
    {
     "data": {
      "text/plain": [
       "Total        86\n",
       "Adult        27\n",
       "Juveniles    18\n",
       "Name: Age, dtype: int64"
      ]
     },
     "execution_count": 22,
     "metadata": {},
     "output_type": "execute_result"
    }
   ],
   "source": [
    "df_men.Age.value_counts()"
   ]
  },
  {
   "cell_type": "code",
   "execution_count": 23,
   "id": "716694b5",
   "metadata": {
    "scrolled": true
   },
   "outputs": [
    {
     "data": {
      "text/plain": [
       "Persons held                                     123\n",
       "Persons held under other types of supervision      6\n",
       "Prisons facilities and capacity                    2\n",
       "Name: Indicator, dtype: int64"
      ]
     },
     "execution_count": 23,
     "metadata": {},
     "output_type": "execute_result"
    }
   ],
   "source": [
    "df_men.Indicator.value_counts()"
   ]
  },
  {
   "cell_type": "code",
   "execution_count": 24,
   "id": "9039ac56",
   "metadata": {},
   "outputs": [],
   "source": [
    "#Dataframe for women only\n",
    "df_women = df[df['Sex'].isin(['Female'])]"
   ]
  },
  {
   "cell_type": "code",
   "execution_count": 25,
   "id": "1d6e13cf",
   "metadata": {},
   "outputs": [
    {
     "data": {
      "text/plain": [
       "(128, 13)"
      ]
     },
     "execution_count": 25,
     "metadata": {},
     "output_type": "execute_result"
    }
   ],
   "source": [
    "df_women.shape"
   ]
  },
  {
   "cell_type": "code",
   "execution_count": 26,
   "id": "a99a3fcf",
   "metadata": {},
   "outputs": [
    {
     "data": {
      "text/html": [
       "<div>\n",
       "<style scoped>\n",
       "    .dataframe tbody tr th:only-of-type {\n",
       "        vertical-align: middle;\n",
       "    }\n",
       "\n",
       "    .dataframe tbody tr th {\n",
       "        vertical-align: top;\n",
       "    }\n",
       "\n",
       "    .dataframe thead th {\n",
       "        text-align: right;\n",
       "    }\n",
       "</style>\n",
       "<table border=\"1\" class=\"dataframe\">\n",
       "  <thead>\n",
       "    <tr style=\"text-align: right;\">\n",
       "      <th></th>\n",
       "      <th>Iso3_code</th>\n",
       "      <th>Country</th>\n",
       "      <th>Region</th>\n",
       "      <th>Subregion</th>\n",
       "      <th>Indicator</th>\n",
       "      <th>Dimension</th>\n",
       "      <th>Category</th>\n",
       "      <th>Sex</th>\n",
       "      <th>Age</th>\n",
       "      <th>Year</th>\n",
       "      <th>Unit of measurement</th>\n",
       "      <th>VALUE</th>\n",
       "      <th>Source</th>\n",
       "    </tr>\n",
       "  </thead>\n",
       "  <tbody>\n",
       "    <tr>\n",
       "      <th>10110</th>\n",
       "      <td>SLV</td>\n",
       "      <td>El Salvador</td>\n",
       "      <td>Americas</td>\n",
       "      <td>Latin America and the Caribbean</td>\n",
       "      <td>Persons held</td>\n",
       "      <td>Total</td>\n",
       "      <td>Total</td>\n",
       "      <td>Male</td>\n",
       "      <td>Adult</td>\n",
       "      <td>2005</td>\n",
       "      <td>Counts</td>\n",
       "      <td>11940</td>\n",
       "      <td>CTS</td>\n",
       "    </tr>\n",
       "    <tr>\n",
       "      <th>10172</th>\n",
       "      <td>SLV</td>\n",
       "      <td>El Salvador</td>\n",
       "      <td>Americas</td>\n",
       "      <td>Latin America and the Caribbean</td>\n",
       "      <td>Persons held</td>\n",
       "      <td>Total</td>\n",
       "      <td>Total</td>\n",
       "      <td>Male</td>\n",
       "      <td>Adult</td>\n",
       "      <td>2006</td>\n",
       "      <td>Counts</td>\n",
       "      <td>13944</td>\n",
       "      <td>CTS</td>\n",
       "    </tr>\n",
       "    <tr>\n",
       "      <th>10238</th>\n",
       "      <td>SLV</td>\n",
       "      <td>El Salvador</td>\n",
       "      <td>Americas</td>\n",
       "      <td>Latin America and the Caribbean</td>\n",
       "      <td>Persons held</td>\n",
       "      <td>Total</td>\n",
       "      <td>Total</td>\n",
       "      <td>Male</td>\n",
       "      <td>Adult</td>\n",
       "      <td>2007</td>\n",
       "      <td>Counts</td>\n",
       "      <td>16762</td>\n",
       "      <td>CTS</td>\n",
       "    </tr>\n",
       "    <tr>\n",
       "      <th>10314</th>\n",
       "      <td>SLV</td>\n",
       "      <td>El Salvador</td>\n",
       "      <td>Americas</td>\n",
       "      <td>Latin America and the Caribbean</td>\n",
       "      <td>Persons held</td>\n",
       "      <td>Total</td>\n",
       "      <td>Total</td>\n",
       "      <td>Male</td>\n",
       "      <td>Adult</td>\n",
       "      <td>2008</td>\n",
       "      <td>Counts</td>\n",
       "      <td>18269</td>\n",
       "      <td>CTS</td>\n",
       "    </tr>\n",
       "    <tr>\n",
       "      <th>10403</th>\n",
       "      <td>SLV</td>\n",
       "      <td>El Salvador</td>\n",
       "      <td>Americas</td>\n",
       "      <td>Latin America and the Caribbean</td>\n",
       "      <td>Persons held</td>\n",
       "      <td>Total</td>\n",
       "      <td>Total</td>\n",
       "      <td>Male</td>\n",
       "      <td>Adult</td>\n",
       "      <td>2009</td>\n",
       "      <td>Counts</td>\n",
       "      <td>20164</td>\n",
       "      <td>CTS</td>\n",
       "    </tr>\n",
       "  </tbody>\n",
       "</table>\n",
       "</div>"
      ],
      "text/plain": [
       "      Iso3_code      Country    Region                        Subregion  \\\n",
       "10110       SLV  El Salvador  Americas  Latin America and the Caribbean   \n",
       "10172       SLV  El Salvador  Americas  Latin America and the Caribbean   \n",
       "10238       SLV  El Salvador  Americas  Latin America and the Caribbean   \n",
       "10314       SLV  El Salvador  Americas  Latin America and the Caribbean   \n",
       "10403       SLV  El Salvador  Americas  Latin America and the Caribbean   \n",
       "\n",
       "          Indicator Dimension Category   Sex    Age  Year Unit of measurement  \\\n",
       "10110  Persons held     Total    Total  Male  Adult  2005              Counts   \n",
       "10172  Persons held     Total    Total  Male  Adult  2006              Counts   \n",
       "10238  Persons held     Total    Total  Male  Adult  2007              Counts   \n",
       "10314  Persons held     Total    Total  Male  Adult  2008              Counts   \n",
       "10403  Persons held     Total    Total  Male  Adult  2009              Counts   \n",
       "\n",
       "       VALUE Source  \n",
       "10110  11940    CTS  \n",
       "10172  13944    CTS  \n",
       "10238  16762    CTS  \n",
       "10314  18269    CTS  \n",
       "10403  20164    CTS  "
      ]
     },
     "execution_count": 26,
     "metadata": {},
     "output_type": "execute_result"
    }
   ],
   "source": [
    "df_men.head()"
   ]
  },
  {
   "cell_type": "code",
   "execution_count": 27,
   "id": "441c27ba",
   "metadata": {},
   "outputs": [
    {
     "data": {
      "text/html": [
       "<div>\n",
       "<style scoped>\n",
       "    .dataframe tbody tr th:only-of-type {\n",
       "        vertical-align: middle;\n",
       "    }\n",
       "\n",
       "    .dataframe tbody tr th {\n",
       "        vertical-align: top;\n",
       "    }\n",
       "\n",
       "    .dataframe thead th {\n",
       "        text-align: right;\n",
       "    }\n",
       "</style>\n",
       "<table border=\"1\" class=\"dataframe\">\n",
       "  <thead>\n",
       "    <tr style=\"text-align: right;\">\n",
       "      <th></th>\n",
       "      <th>Iso3_code</th>\n",
       "      <th>Country</th>\n",
       "      <th>Region</th>\n",
       "      <th>Subregion</th>\n",
       "      <th>Indicator</th>\n",
       "      <th>Dimension</th>\n",
       "      <th>Category</th>\n",
       "      <th>Sex</th>\n",
       "      <th>Age</th>\n",
       "      <th>Year</th>\n",
       "      <th>Unit of measurement</th>\n",
       "      <th>VALUE</th>\n",
       "      <th>Source</th>\n",
       "    </tr>\n",
       "  </thead>\n",
       "  <tbody>\n",
       "    <tr>\n",
       "      <th>11709</th>\n",
       "      <td>SLV</td>\n",
       "      <td>El Salvador</td>\n",
       "      <td>Americas</td>\n",
       "      <td>Latin America and the Caribbean</td>\n",
       "      <td>Persons held</td>\n",
       "      <td>Total</td>\n",
       "      <td>Total</td>\n",
       "      <td>Female</td>\n",
       "      <td>Adult</td>\n",
       "      <td>2005</td>\n",
       "      <td>Counts</td>\n",
       "      <td>585</td>\n",
       "      <td>CTS</td>\n",
       "    </tr>\n",
       "    <tr>\n",
       "      <th>11800</th>\n",
       "      <td>SLV</td>\n",
       "      <td>El Salvador</td>\n",
       "      <td>Americas</td>\n",
       "      <td>Latin America and the Caribbean</td>\n",
       "      <td>Persons held</td>\n",
       "      <td>Total</td>\n",
       "      <td>Total</td>\n",
       "      <td>Female</td>\n",
       "      <td>Adult</td>\n",
       "      <td>2006</td>\n",
       "      <td>Counts</td>\n",
       "      <td>827</td>\n",
       "      <td>CTS</td>\n",
       "    </tr>\n",
       "    <tr>\n",
       "      <th>11889</th>\n",
       "      <td>SLV</td>\n",
       "      <td>El Salvador</td>\n",
       "      <td>Americas</td>\n",
       "      <td>Latin America and the Caribbean</td>\n",
       "      <td>Persons held</td>\n",
       "      <td>Total</td>\n",
       "      <td>Total</td>\n",
       "      <td>Female</td>\n",
       "      <td>Adult</td>\n",
       "      <td>2007</td>\n",
       "      <td>Counts</td>\n",
       "      <td>1105</td>\n",
       "      <td>CTS</td>\n",
       "    </tr>\n",
       "    <tr>\n",
       "      <th>11986</th>\n",
       "      <td>SLV</td>\n",
       "      <td>El Salvador</td>\n",
       "      <td>Americas</td>\n",
       "      <td>Latin America and the Caribbean</td>\n",
       "      <td>Persons held</td>\n",
       "      <td>Total</td>\n",
       "      <td>Total</td>\n",
       "      <td>Female</td>\n",
       "      <td>Adult</td>\n",
       "      <td>2008</td>\n",
       "      <td>Counts</td>\n",
       "      <td>1545</td>\n",
       "      <td>CTS</td>\n",
       "    </tr>\n",
       "    <tr>\n",
       "      <th>12083</th>\n",
       "      <td>SLV</td>\n",
       "      <td>El Salvador</td>\n",
       "      <td>Americas</td>\n",
       "      <td>Latin America and the Caribbean</td>\n",
       "      <td>Persons held</td>\n",
       "      <td>Total</td>\n",
       "      <td>Total</td>\n",
       "      <td>Female</td>\n",
       "      <td>Adult</td>\n",
       "      <td>2009</td>\n",
       "      <td>Counts</td>\n",
       "      <td>1937</td>\n",
       "      <td>CTS</td>\n",
       "    </tr>\n",
       "  </tbody>\n",
       "</table>\n",
       "</div>"
      ],
      "text/plain": [
       "      Iso3_code      Country    Region                        Subregion  \\\n",
       "11709       SLV  El Salvador  Americas  Latin America and the Caribbean   \n",
       "11800       SLV  El Salvador  Americas  Latin America and the Caribbean   \n",
       "11889       SLV  El Salvador  Americas  Latin America and the Caribbean   \n",
       "11986       SLV  El Salvador  Americas  Latin America and the Caribbean   \n",
       "12083       SLV  El Salvador  Americas  Latin America and the Caribbean   \n",
       "\n",
       "          Indicator Dimension Category     Sex    Age  Year  \\\n",
       "11709  Persons held     Total    Total  Female  Adult  2005   \n",
       "11800  Persons held     Total    Total  Female  Adult  2006   \n",
       "11889  Persons held     Total    Total  Female  Adult  2007   \n",
       "11986  Persons held     Total    Total  Female  Adult  2008   \n",
       "12083  Persons held     Total    Total  Female  Adult  2009   \n",
       "\n",
       "      Unit of measurement VALUE Source  \n",
       "11709              Counts   585    CTS  \n",
       "11800              Counts   827    CTS  \n",
       "11889              Counts  1105    CTS  \n",
       "11986              Counts  1545    CTS  \n",
       "12083              Counts  1937    CTS  "
      ]
     },
     "execution_count": 27,
     "metadata": {},
     "output_type": "execute_result"
    }
   ],
   "source": [
    "df_women.head()"
   ]
  },
  {
   "cell_type": "code",
   "execution_count": 28,
   "id": "7062aa2b",
   "metadata": {},
   "outputs": [
    {
     "data": {
      "text/plain": [
       "Persons held                                     120\n",
       "Persons held under other types of supervision      6\n",
       "Prisons facilities and capacity                    2\n",
       "Name: Indicator, dtype: int64"
      ]
     },
     "execution_count": 28,
     "metadata": {},
     "output_type": "execute_result"
    }
   ],
   "source": [
    "df_women['Indicator'].value_counts()"
   ]
  },
  {
   "cell_type": "code",
   "execution_count": 29,
   "id": "79c357b4",
   "metadata": {
    "scrolled": true
   },
   "outputs": [
    {
     "data": {
      "text/plain": [
       "Total                       106\n",
       "Unsentenced                  20\n",
       "Official prison capacity      2\n",
       "Name: Category, dtype: int64"
      ]
     },
     "execution_count": 29,
     "metadata": {},
     "output_type": "execute_result"
    }
   ],
   "source": [
    "df_women.Category.value_counts()"
   ]
  },
  {
   "cell_type": "code",
   "execution_count": 30,
   "id": "f38ca544",
   "metadata": {},
   "outputs": [],
   "source": [
    "#Only keeping Total from Category\n",
    "#https://pandas.pydata.org/docs/reference/api/pandas.Series.str.contains.html\n",
    "df_men = df_men[df_men['Category'].str.contains('Total')]"
   ]
  },
  {
   "cell_type": "code",
   "execution_count": 31,
   "id": "fc5b0cd8",
   "metadata": {},
   "outputs": [],
   "source": [
    "df_women = df_women[df_women['Category'].str.contains('Total')]"
   ]
  },
  {
   "cell_type": "code",
   "execution_count": 32,
   "id": "f34bd8b9",
   "metadata": {},
   "outputs": [
    {
     "data": {
      "text/plain": [
       "2019    9\n",
       "2018    8\n",
       "2011    8\n",
       "2017    8\n",
       "2013    7\n",
       "2010    7\n",
       "2012    7\n",
       "2014    7\n",
       "2015    7\n",
       "2016    6\n",
       "2020    6\n",
       "2021    6\n",
       "2006    4\n",
       "2009    4\n",
       "2008    4\n",
       "2007    4\n",
       "2005    4\n",
       "Name: Year, dtype: int64"
      ]
     },
     "execution_count": 32,
     "metadata": {},
     "output_type": "execute_result"
    }
   ],
   "source": [
    "df_women.Year.value_counts()"
   ]
  },
  {
   "cell_type": "code",
   "execution_count": 33,
   "id": "3fdd25ed",
   "metadata": {
    "scrolled": true
   },
   "outputs": [
    {
     "data": {
      "text/plain": [
       "([<matplotlib.axis.XTick at 0x156cd5b90>,\n",
       "  <matplotlib.axis.XTick at 0x156cd5950>,\n",
       "  <matplotlib.axis.XTick at 0x152b7ab50>,\n",
       "  <matplotlib.axis.XTick at 0x155ee1f50>,\n",
       "  <matplotlib.axis.XTick at 0x155ee41d0>,\n",
       "  <matplotlib.axis.XTick at 0x155ee7e90>,\n",
       "  <matplotlib.axis.XTick at 0x155ee71d0>,\n",
       "  <matplotlib.axis.XTick at 0x155e91510>,\n",
       "  <matplotlib.axis.XTick at 0x155e93110>,\n",
       "  <matplotlib.axis.XTick at 0x155ea2110>,\n",
       "  <matplotlib.axis.XTick at 0x155e70390>,\n",
       "  <matplotlib.axis.XTick at 0x155e70bd0>,\n",
       "  <matplotlib.axis.XTick at 0x155e72f50>,\n",
       "  <matplotlib.axis.XTick at 0x155e81250>,\n",
       "  <matplotlib.axis.XTick at 0x155e83590>,\n",
       "  <matplotlib.axis.XTick at 0x155eabe90>,\n",
       "  <matplotlib.axis.XTick at 0x155ea8690>],\n",
       " [Text(2005, 0, '2005'),\n",
       "  Text(2006, 0, '2006'),\n",
       "  Text(2007, 0, '2007'),\n",
       "  Text(2008, 0, '2008'),\n",
       "  Text(2009, 0, '2009'),\n",
       "  Text(2010, 0, '2010'),\n",
       "  Text(2011, 0, '2011'),\n",
       "  Text(2012, 0, '2012'),\n",
       "  Text(2013, 0, '2013'),\n",
       "  Text(2014, 0, '2014'),\n",
       "  Text(2015, 0, '2015'),\n",
       "  Text(2016, 0, '2016'),\n",
       "  Text(2017, 0, '2017'),\n",
       "  Text(2018, 0, '2018'),\n",
       "  Text(2019, 0, '2019'),\n",
       "  Text(2020, 0, '2020'),\n",
       "  Text(2021, 0, '2021')])"
      ]
     },
     "execution_count": 33,
     "metadata": {},
     "output_type": "execute_result"
    },
    {
     "data": {
      "image/png": "[encoded data removed]",
      "text/plain": [
       "<Figure size 640x480 with 1 Axes>"
      ]
     },
     "metadata": {},
     "output_type": "display_data"
    }
   ],
   "source": [
    "plt.bar(df_men.Year, df_men.VALUE)\n",
    "plt.xlabel('Year')\n",
    "plt.ylabel('Number Incarcerated')\n",
    "plt.title('Number of Male Arrests per Year')\n",
    "plt.xticks(np.arange(2005, 2022), rotation = 90)\n",
    "#Figure out how to add numbers to top of bar chart"
   ]
  },
  {
   "cell_type": "code",
   "execution_count": 34,
   "id": "025a4752",
   "metadata": {
    "scrolled": true
   },
   "outputs": [
    {
     "data": {
      "text/plain": [
       "([<matplotlib.axis.XTick at 0x155e60310>,\n",
       "  <matplotlib.axis.XTick at 0x156198e90>,\n",
       "  <matplotlib.axis.XTick at 0x155e630d0>,\n",
       "  <matplotlib.axis.XTick at 0x1559859d0>,\n",
       "  <matplotlib.axis.XTick at 0x155987cd0>,\n",
       "  <matplotlib.axis.XTick at 0x15597e190>,\n",
       "  <matplotlib.axis.XTick at 0x15597fe90>,\n",
       "  <matplotlib.axis.XTick at 0x1559c0f50>,\n",
       "  <matplotlib.axis.XTick at 0x1559c3210>,\n",
       "  <matplotlib.axis.XTick at 0x15598d550>,\n",
       "  <matplotlib.axis.XTick at 0x15598f690>,\n",
       "  <matplotlib.axis.XTick at 0x1559ccbd0>,\n",
       "  <matplotlib.axis.XTick at 0x1559c1710>,\n",
       "  <matplotlib.axis.XTick at 0x1559b1d90>,\n",
       "  <matplotlib.axis.XTick at 0x1559b3e10>,\n",
       "  <matplotlib.axis.XTick at 0x1559f5410>,\n",
       "  <matplotlib.axis.XTick at 0x1559f6110>],\n",
       " [Text(2005, 0, '2005'),\n",
       "  Text(2006, 0, '2006'),\n",
       "  Text(2007, 0, '2007'),\n",
       "  Text(2008, 0, '2008'),\n",
       "  Text(2009, 0, '2009'),\n",
       "  Text(2010, 0, '2010'),\n",
       "  Text(2011, 0, '2011'),\n",
       "  Text(2012, 0, '2012'),\n",
       "  Text(2013, 0, '2013'),\n",
       "  Text(2014, 0, '2014'),\n",
       "  Text(2015, 0, '2015'),\n",
       "  Text(2016, 0, '2016'),\n",
       "  Text(2017, 0, '2017'),\n",
       "  Text(2018, 0, '2018'),\n",
       "  Text(2019, 0, '2019'),\n",
       "  Text(2020, 0, '2020'),\n",
       "  Text(2021, 0, '2021')])"
      ]
     },
     "execution_count": 34,
     "metadata": {},
     "output_type": "execute_result"
    },
    {
     "data": {
      "image/png": "[encoded data removed]",
      "text/plain": [
       "<Figure size 640x480 with 1 Axes>"
      ]
     },
     "metadata": {},
     "output_type": "display_data"
    }
   ],
   "source": [
    "plt.bar(df_women.Year, df_women.VALUE)\n",
    "plt.xlabel('Year')\n",
    "plt.ylabel('Number Incarcerated')\n",
    "plt.title('Number of Female Arrests per Year')\n",
    "plt.xticks(np.arange(2005, 2022), rotation = 90)\n",
    "#Figure out how to add numbers to top of bar chart"
   ]
  },
  {
   "cell_type": "code",
   "execution_count": 35,
   "id": "b2b20f2d",
   "metadata": {},
   "outputs": [],
   "source": [
    "#El Salvador Men df\n",
    "el_salvador_men_df = df_men[df_men['Country'] == 'El Salvador']"
   ]
  },
  {
   "cell_type": "code",
   "execution_count": 36,
   "id": "787f0b93",
   "metadata": {},
   "outputs": [],
   "source": [
    "#El Salvador Women df\n",
    "el_salvador_women_df = df_women[df_women['Country'] == 'El Salvador']"
   ]
  },
  {
   "cell_type": "code",
   "execution_count": 37,
   "id": "be528fa2",
   "metadata": {},
   "outputs": [],
   "source": [
    "#Honduras Men df\n",
    "honduras_men_df = df_men[df_men['Country'] == 'Honduras']"
   ]
  },
  {
   "cell_type": "code",
   "execution_count": 38,
   "id": "d8d83bc4",
   "metadata": {},
   "outputs": [],
   "source": [
    "#Honduras Women df\n",
    "honduras_women_df = df_women[df_women['Country'] == 'Honduras']"
   ]
  },
  {
   "cell_type": "code",
   "execution_count": 39,
   "id": "55d2d52b",
   "metadata": {},
   "outputs": [
    {
     "data": {
      "text/plain": [
       "<matplotlib.legend.Legend at 0x155d82b90>"
      ]
     },
     "execution_count": 39,
     "metadata": {},
     "output_type": "execute_result"
    },
    {
     "data": {
      "image/png": "[encoded data removed]",
      "text/plain": [
       "<Figure size 2000x400 with 3 Axes>"
      ]
     },
     "metadata": {},
     "output_type": "display_data"
    }
   ],
   "source": [
    "#El Salvador incarceration per year line charts\n",
    "#https://matplotlib.org/stable/gallery/subplots_axes_and_figures/subplots_demo.html\n",
    "\n",
    "#Filter df so it only shows Juvenile Men, Juvenile Women, Adult Men, Adult Women for El Salvador\n",
    "#Extract values from this column\n",
    "el_salvador_men_juv = el_salvador_men_df[el_salvador_men_df['Age'] == 'Juveniles']['VALUE'].tolist()\n",
    "el_salvador_men_juv_years = el_salvador_men_df[el_salvador_men_df['Age'] == 'Juveniles']['Year'].tolist()\n",
    "\n",
    "el_salvador_women_juv = el_salvador_women_df[el_salvador_women_df['Age'] == 'Juveniles']['VALUE'].tolist()\n",
    "el_salvador_women_juv_years = el_salvador_women_df[el_salvador_women_df['Age'] == 'Juveniles']['Year'].tolist()\n",
    "\n",
    "el_salvador_men_adult = el_salvador_men_df[el_salvador_men_df['Age'] == 'Adult']['VALUE'].tolist()\n",
    "el_salvador_men_adult_years = el_salvador_men_df[el_salvador_men_df['Age'] == 'Adult']['Year'].tolist()\n",
    "\n",
    "el_salvador_women_adult = el_salvador_women_df[el_salvador_women_df['Age'] == 'Adult']['VALUE'].tolist()\n",
    "el_salvador_women_adult_years = el_salvador_women_df[el_salvador_women_df['Age'] == 'Adult']['Year'].tolist()\n",
    "\n",
    "#Filter for Honduras, similar to above\n",
    "honduras_men_juv = honduras_men_df[honduras_men_df['Age'] == 'Juveniles']['VALUE'].tolist()\n",
    "honduras_men_juv_years = honduras_men_df[honduras_men_df['Age'] == 'Juveniles']['Year'].tolist()\n",
    "\n",
    "honduras_women_juv = honduras_women_df[honduras_women_df['Age'] == 'Juveniles']['VALUE'].tolist()\n",
    "honduras_women_juv_years = honduras_women_df[honduras_women_df['Age'] == 'Juveniles']['Year'].tolist()\n",
    "\n",
    "honduras_men_adult = honduras_men_df[honduras_men_df['Age'] == 'Adult']['VALUE'].tolist()\n",
    "honduras_men_adult_years = honduras_men_df[honduras_men_df['Age'] == 'Adult']['Year'].tolist()\n",
    "\n",
    "honduras_women_adult = honduras_women_df[honduras_women_df['Age'] == 'Adult']['VALUE'].tolist()\n",
    "honduras_women_adult_years = honduras_women_df[honduras_women_df['Age'] == 'Adult']['Year'].tolist()\n",
    "\n",
    "#Setting up plot\n",
    "fig, (ax1, ax2, ax3) = plt.subplots(1, 3, figsize = (20,4))\n",
    "\n",
    "#Plots for El Salvador\n",
    "ax1.plot(el_salvador_men_juv_years, el_salvador_men_juv, label = 'Men')\n",
    "ax1.plot(el_salvador_women_juv_years, el_salvador_women_juv, label = 'Women')\n",
    "ax2.plot(el_salvador_men_adult_years, el_salvador_men_adult, label = 'Men')\n",
    "ax2.plot(el_salvador_women_adult_years, el_salvador_women_adult, label = 'Women')\n",
    "\n",
    "\n",
    "ax1.set_xlabel('Year')\n",
    "ax1.set_ylabel('Prison Population')\n",
    "ax1.set_title('Juvenile Prison Population per Year for El Salvador')\n",
    "ax2.set_xlabel('Year')\n",
    "ax2.set_ylabel('Prison Population')\n",
    "ax2.set_title('Adult Prison Population per Year for El Salvador')\n",
    "ax1.legend()\n",
    "ax2.legend()\n",
    "\n",
    "#Not enough Juvenile data to make plots for Honduras, will plot Adults\n",
    "ax3.plot(honduras_men_adult_years, honduras_men_adult, label = 'Men')\n",
    "ax3.plot(honduras_women_adult_years, honduras_women_adult, label = 'Women')\n",
    "ax3.set_xlabel('Year')\n",
    "ax3.set_ylabel('Prison Population')\n",
    "ax3.set_title('Adult Prison Population per Year for Honduras')\n",
    "ax3.legend()\n",
    "\n"
   ]
  },
  {
   "cell_type": "code",
   "execution_count": 40,
   "id": "c8785ece",
   "metadata": {},
   "outputs": [
    {
     "data": {
      "text/plain": [
       "(15, 17, 15, 14)"
      ]
     },
     "execution_count": 40,
     "metadata": {},
     "output_type": "execute_result"
    }
   ],
   "source": [
    "len(el_salvador_men_adult), len(el_salvador_men_juv), len(el_salvador_women_adult), len(el_salvador_women_juv)"
   ]
  },
  {
   "cell_type": "code",
   "execution_count": 41,
   "id": "9ff9c276",
   "metadata": {},
   "outputs": [
    {
     "data": {
      "text/plain": [
       "\"\\nfig, (ax) = plt.subplots(1, 2, figsize = (12,4))\\n\\nax1.plot(honduras_men_juv_years, honduras_men_juv, label = 'Men')\\nax1.plot(honduras_women_juv_years, honduras_women_juv, label = 'Women')\\nax2.plot(honduras_men_adult_years, honduras_men_adult, label = 'Men')\\nax2.plot(honduras_women_adult_years, honduras_women_adult, label = 'Women')\\nax1.set_xlabel('Year')\\nax1.set_ylabel('Prison Population')\\nax1.set_title('Juvenile Prison Population per Year for Honduras')\\nax2.set_xlabel('Year')\\nax2.set_ylabel('Prison Population')\\nax2.set_title('Adult Prison Population per Year for Honduras')\\nax1.legend()\\nax2.legend()\\n\""
      ]
     },
     "execution_count": 41,
     "metadata": {},
     "output_type": "execute_result"
    }
   ],
   "source": [
    "#Honduras incarceration per year line charts\n",
    "\n",
    "#Filter df so it only shows Juvenile Men, Juvenile Women, Adult Men, Adult Women\n",
    "#Extract values from this column\n",
    "honduras_men_juv = honduras_men_df[honduras_men_df['Age'] == 'Juveniles']['VALUE'].tolist()\n",
    "honduras_men_juv_years = honduras_men_df[honduras_men_df['Age'] == 'Juveniles']['Year'].tolist()\n",
    "\n",
    "honduras_women_juv = honduras_women_df[honduras_women_df['Age'] == 'Juveniles']['VALUE'].tolist()\n",
    "honduras_women_juv_years = honduras_women_df[honduras_women_df['Age'] == 'Juveniles']['Year'].tolist()\n",
    "\n",
    "honduras_men_adult = honduras_men_df[honduras_men_df['Age'] == 'Adult']['VALUE'].tolist()\n",
    "honduras_men_adult_years = honduras_men_df[honduras_men_df['Age'] == 'Adult']['Year'].tolist()\n",
    "\n",
    "honduras_women_adult = honduras_women_df[honduras_women_df['Age'] == 'Adult']['VALUE'].tolist()\n",
    "honduras_women_adult_years = honduras_women_df[honduras_women_df['Age'] == 'Adult']['Year'].tolist()\n",
    "#Create years for x axis\n",
    "\n",
    "'''\n",
    "fig, (ax) = plt.subplots(1, 2, figsize = (12,4))\n",
    "\n",
    "ax1.plot(honduras_men_juv_years, honduras_men_juv, label = 'Men')\n",
    "ax1.plot(honduras_women_juv_years, honduras_women_juv, label = 'Women')\n",
    "ax2.plot(honduras_men_adult_years, honduras_men_adult, label = 'Men')\n",
    "ax2.plot(honduras_women_adult_years, honduras_women_adult, label = 'Women')\n",
    "ax1.set_xlabel('Year')\n",
    "ax1.set_ylabel('Prison Population')\n",
    "ax1.set_title('Juvenile Prison Population per Year for Honduras')\n",
    "ax2.set_xlabel('Year')\n",
    "ax2.set_ylabel('Prison Population')\n",
    "ax2.set_title('Adult Prison Population per Year for Honduras')\n",
    "ax1.legend()\n",
    "ax2.legend()\n",
    "'''\n"
   ]
  },
  {
   "cell_type": "code",
   "execution_count": 42,
   "id": "d62c5d43",
   "metadata": {},
   "outputs": [],
   "source": [
    "#Read in crime rate per year in el salvador\n",
    "gg = pd.read_excel('../../Datasets/Original_Data/elsalvador_crimerate_peryear.xlsx')"
   ]
  },
  {
   "cell_type": "code",
   "execution_count": 43,
   "id": "7fe307ba",
   "metadata": {},
   "outputs": [
    {
     "data": {
      "text/plain": [
       "Text(0.5, 1.0, 'El Salvador Crime Rate per Year')"
      ]
     },
     "execution_count": 43,
     "metadata": {},
     "output_type": "execute_result"
    },
    {
     "data": {
      "image/png": "[encoded data removed]",
      "text/plain": [
       "<Figure size 640x480 with 1 Axes>"
      ]
     },
     "metadata": {},
     "output_type": "display_data"
    }
   ],
   "source": [
    "#Plot crime rate per year for El Salvador\n",
    "#https://www.macrotrends.net/countries/SLV/el-salvador/crime-rate-statistics#:~:text=El%20Salvador%20crime%20rate%20%26%20statistics%20for%202021%20was%2018.17%2C%20a,a%2028.38%25%20decline%20from%202018.\n",
    "plt.bar(gg['Year'], gg['Per 100K Population'], color = 'firebrick')\n",
    "plt.xlabel('Year')\n",
    "plt.ylabel('Per 100k Population')\n",
    "plt.title('El Salvador Crime Rate per Year')\n",
    "#Lowest crime rate since before civil war\n",
    "#https://matplotlib.org/stable/gallery/color/named_colors.html\n",
    "#Refrenced above for colors"
   ]
  },
  {
   "cell_type": "code",
   "execution_count": 44,
   "id": "d9fbe3fe",
   "metadata": {},
   "outputs": [],
   "source": [
    "#2011 honduras highest homicide rate in world"
   ]
  },
  {
   "cell_type": "code",
   "execution_count": 45,
   "id": "1e394e8b",
   "metadata": {},
   "outputs": [],
   "source": [
    "#El Salvador homicide rate\n",
    "#https://elsalvadorinfo.net/homicide-rate-in-el-salvador/"
   ]
  },
  {
   "cell_type": "code",
   "execution_count": 46,
   "id": "83540156",
   "metadata": {},
   "outputs": [],
   "source": [
    "#Honduras homicide rate 2014 to 2022\n",
    "#https://www.statista.com/statistics/984779/homicide-rate-honduras/#:~:text=Honduras%3A%20homicide%20rate%202014%2D2022&text=In%202022%2C%20almost%2035.8%20homicides,66%20homicides%20per%20100%2C000%20residents."
   ]
  },
  {
   "cell_type": "code",
   "execution_count": 47,
   "id": "164fcfc9",
   "metadata": {},
   "outputs": [],
   "source": [
    "#Honduras Murder/Homicide rate 1990-2023\n",
    "#https://www.macrotrends.net/countries/HND/honduras/murder-homicide-rate"
   ]
  },
  {
   "cell_type": "code",
   "execution_count": 48,
   "id": "6efd66b5",
   "metadata": {},
   "outputs": [],
   "source": [
    "#Honduras prison pop total (Every 2 years)\n",
    "#https://www.prisonstudies.org/country/honduras"
   ]
  },
  {
   "cell_type": "code",
   "execution_count": 49,
   "id": "aa003ac0",
   "metadata": {},
   "outputs": [],
   "source": [
    "#Honduras prison pop (2010 - 2021)\n",
    "#https://countryeconomy.com/demography/prison-population/honduras\n",
    "#El Salvador prison pop (2005-2019)\n",
    "#https://countryeconomy.com/demography/prison-population/el-salvador"
   ]
  },
  {
   "cell_type": "code",
   "execution_count": null,
   "id": "a0ca3945",
   "metadata": {},
   "outputs": [],
   "source": []
  },
  {
   "cell_type": "code",
   "execution_count": null,
   "id": "26eb0080",
   "metadata": {},
   "outputs": [],
   "source": []
  },
  {
   "cell_type": "code",
   "execution_count": 50,
   "id": "42e0c165",
   "metadata": {},
   "outputs": [],
   "source": [
    "#https://www.cnn.com/2023/03/07/americas/el-salvador-prison-bukele-intl-latam/index.html\n",
    "#https://www.prisonstudies.org/country/el-salvador\n",
    "\n",
    "#Honduras copies el salvador\n",
    "#Bukele’s harsh tactics have succeeded in weakening organized crime, but at a high cost to human rights.\n",
    "#https://apnews.com/article/honduras-prisons-raids-rights-el-salvador-6e757b5fcc33ae9328640630e47a912d\n",
    "\n",
    "#Honduras island prison, president Xiomara Castro\n",
    "#https://www.nbcnews.com/news/latino/honduras-only-island-prison-colony-western-hemisphere-gangs-rcna95072"
   ]
  }
 ],
 "metadata": {
  "kernelspec": {
   "display_name": "Python 3 (ipykernel)",
   "language": "python",
   "name": "python3"
  },
  "language_info": {
   "codemirror_mode": {
    "name": "ipython",
    "version": 3
   },
   "file_extension": ".py",
   "mimetype": "text/x-python",
   "name": "python",
   "nbconvert_exporter": "python",
   "pygments_lexer": "ipython3",
   "version": "3.11.4"
  }
 },
 "nbformat": 4,
 "nbformat_minor": 5
}
